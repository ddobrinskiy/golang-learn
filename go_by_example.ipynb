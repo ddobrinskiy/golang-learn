{
 "cells": [
  {
   "cell_type": "markdown",
   "metadata": {},
   "source": [
    "# Go By Example\n",
    "\n",
    "**FYI** running this in jupyter: https://github.com/gopherdata/gophernotes#docker"
   ]
  },
  {
   "cell_type": "markdown",
   "metadata": {},
   "source": [
    "## https://gobyexample.com/hello-world"
   ]
  },
  {
   "cell_type": "code",
   "execution_count": 92,
   "metadata": {},
   "outputs": [],
   "source": [
    "import \"fmt\""
   ]
  },
  {
   "cell_type": "code",
   "execution_count": 93,
   "metadata": {},
   "outputs": [
    {
     "name": "stdout",
     "output_type": "stream",
     "text": [
      "Hello world"
     ]
    },
    {
     "data": {
      "text/plain": [
       "11 <nil>"
      ]
     },
     "execution_count": 93,
     "metadata": {},
     "output_type": "execute_result"
    }
   ],
   "source": [
    "fmt.Printf(\"Hello world\")"
   ]
  },
  {
   "cell_type": "code",
   "execution_count": 94,
   "metadata": {},
   "outputs": [
    {
     "data": {
      "text/plain": [
       "Hello world"
      ]
     },
     "execution_count": 94,
     "metadata": {},
     "output_type": "execute_result"
    }
   ],
   "source": [
    "\"Hello world\""
   ]
  },
  {
   "cell_type": "markdown",
   "metadata": {},
   "source": [
    "## https://gobyexample.com/values"
   ]
  },
  {
   "cell_type": "code",
   "execution_count": 95,
   "metadata": {},
   "outputs": [
    {
     "data": {
      "text/plain": [
       "golang"
      ]
     },
     "execution_count": 95,
     "metadata": {},
     "output_type": "execute_result"
    }
   ],
   "source": [
    "\"go\" + \"lang\""
   ]
  },
  {
   "cell_type": "code",
   "execution_count": 96,
   "metadata": {},
   "outputs": [
    {
     "name": "stdout",
     "output_type": "stream",
     "text": [
      "1 + 1 = 2\n"
     ]
    },
    {
     "data": {
      "text/plain": [
       "10 <nil>"
      ]
     },
     "execution_count": 96,
     "metadata": {},
     "output_type": "execute_result"
    }
   ],
   "source": [
    "fmt.Println(\"1 + 1 =\", 1+1)"
   ]
  },
  {
   "cell_type": "code",
   "execution_count": 97,
   "metadata": {},
   "outputs": [
    {
     "ename": "ERROR",
     "evalue": "interface conversion: constant.Value is constant.int64Val, not *constant.stringVal",
     "output_type": "error",
     "traceback": [
      "interface conversion: constant.Value is constant.int64Val, not *constant.stringVal"
     ]
    }
   ],
   "source": [
    "\"1 + 1 = \" + 1+1"
   ]
  },
  {
   "cell_type": "code",
   "execution_count": 98,
   "metadata": {},
   "outputs": [
    {
     "name": "stdout",
     "output_type": "stream",
     "text": [
      "7.0/3.0 = 2.3333333333333335\n"
     ]
    },
    {
     "data": {
      "text/plain": [
       "29 <nil>"
      ]
     },
     "execution_count": 98,
     "metadata": {},
     "output_type": "execute_result"
    }
   ],
   "source": [
    "fmt.Println(\"7.0/3.0 =\", 7.0/3.0)"
   ]
  },
  {
   "cell_type": "code",
   "execution_count": 99,
   "metadata": {},
   "outputs": [
    {
     "data": {
      "text/plain": [
       "false"
      ]
     },
     "execution_count": 99,
     "metadata": {},
     "output_type": "execute_result"
    }
   ],
   "source": [
    "true && false"
   ]
  },
  {
   "cell_type": "code",
   "execution_count": 100,
   "metadata": {},
   "outputs": [
    {
     "data": {
      "text/plain": [
       "true"
      ]
     },
     "execution_count": 100,
     "metadata": {},
     "output_type": "execute_result"
    }
   ],
   "source": [
    "true || false"
   ]
  },
  {
   "cell_type": "code",
   "execution_count": 101,
   "metadata": {},
   "outputs": [
    {
     "data": {
      "text/plain": [
       "false"
      ]
     },
     "execution_count": 101,
     "metadata": {},
     "output_type": "execute_result"
    }
   ],
   "source": [
    "!true"
   ]
  },
  {
   "cell_type": "markdown",
   "metadata": {},
   "source": [
    "## https://gobyexample.com/variables"
   ]
  },
  {
   "cell_type": "code",
   "execution_count": 102,
   "metadata": {},
   "outputs": [
    {
     "data": {
      "text/plain": [
       "initial"
      ]
     },
     "execution_count": 102,
     "metadata": {},
     "output_type": "execute_result"
    }
   ],
   "source": [
    "var a = \"initial\"\n",
    "a"
   ]
  },
  {
   "cell_type": "code",
   "execution_count": 103,
   "metadata": {},
   "outputs": [
    {
     "name": "stdout",
     "output_type": "stream",
     "text": [
      "1 2\n"
     ]
    },
    {
     "data": {
      "text/plain": [
       "4 <nil>"
      ]
     },
     "execution_count": 103,
     "metadata": {},
     "output_type": "execute_result"
    }
   ],
   "source": [
    "var b, c int = 1, 2\n",
    "\n",
    "fmt.Println(b, c)"
   ]
  },
  {
   "cell_type": "code",
   "execution_count": 104,
   "metadata": {},
   "outputs": [
    {
     "data": {
      "text/plain": [
       "true"
      ]
     },
     "execution_count": 104,
     "metadata": {},
     "output_type": "execute_result"
    }
   ],
   "source": [
    "var d = true\n",
    "d"
   ]
  },
  {
   "cell_type": "code",
   "execution_count": 105,
   "metadata": {},
   "outputs": [
    {
     "data": {
      "text/plain": [
       "0"
      ]
     },
     "execution_count": 105,
     "metadata": {},
     "output_type": "execute_result"
    }
   ],
   "source": [
    "var e int\n",
    "e"
   ]
  },
  {
   "cell_type": "code",
   "execution_count": 106,
   "metadata": {},
   "outputs": [
    {
     "data": {
      "text/plain": [
       "apple"
      ]
     },
     "execution_count": 106,
     "metadata": {},
     "output_type": "execute_result"
    }
   ],
   "source": [
    "// The := syntax is shorthand for \n",
    "// declaring and initializing a variable, \n",
    "// e.g. for var f string = \"apple\" in this case.\n",
    "\n",
    "f := \"apple\"\n",
    "f"
   ]
  },
  {
   "cell_type": "code",
   "execution_count": 107,
   "metadata": {},
   "outputs": [
    {
     "data": {
      "text/plain": []
     },
     "execution_count": 107,
     "metadata": {},
     "output_type": "execute_result"
    }
   ],
   "source": [
    "var g string\n",
    "g"
   ]
  },
  {
   "cell_type": "markdown",
   "metadata": {},
   "source": [
    "## https://gobyexample.com/constants"
   ]
  },
  {
   "cell_type": "code",
   "execution_count": 108,
   "metadata": {},
   "outputs": [],
   "source": [
    "import \"math\""
   ]
  },
  {
   "cell_type": "code",
   "execution_count": 109,
   "metadata": {},
   "outputs": [
    {
     "data": {
      "text/plain": [
       "constant"
      ]
     },
     "execution_count": 109,
     "metadata": {},
     "output_type": "execute_result"
    }
   ],
   "source": [
    "const s string = \"constant\"\n",
    "s"
   ]
  },
  {
   "cell_type": "code",
   "execution_count": 110,
   "metadata": {},
   "outputs": [
    {
     "ename": "ERROR",
     "evalue": "cannot assign to a const: s <string>",
     "output_type": "error",
     "traceback": [
      "cannot assign to a const: s <string>"
     ]
    }
   ],
   "source": [
    "s = \"new value\"\n",
    "s"
   ]
  },
  {
   "cell_type": "code",
   "execution_count": 111,
   "metadata": {},
   "outputs": [
    {
     "data": {
      "text/plain": [
       "500000000"
      ]
     },
     "execution_count": 111,
     "metadata": {},
     "output_type": "execute_result"
    }
   ],
   "source": [
    "const n = 500000000\n",
    "n"
   ]
  },
  {
   "cell_type": "code",
   "execution_count": 112,
   "metadata": {},
   "outputs": [
    {
     "data": {
      "text/plain": [
       "6e+11"
      ]
     },
     "execution_count": 112,
     "metadata": {},
     "output_type": "execute_result"
    }
   ],
   "source": [
    "const d = 3e20 / n\n",
    "d"
   ]
  },
  {
   "cell_type": "code",
   "execution_count": 113,
   "metadata": {},
   "outputs": [
    {
     "data": {
      "text/plain": [
       "600000000000"
      ]
     },
     "execution_count": 113,
     "metadata": {},
     "output_type": "execute_result"
    }
   ],
   "source": [
    "int64(d)"
   ]
  },
  {
   "cell_type": "code",
   "execution_count": 114,
   "metadata": {},
   "outputs": [
    {
     "data": {
      "text/plain": [
       "-0.28470407323754404"
      ]
     },
     "execution_count": 114,
     "metadata": {},
     "output_type": "execute_result"
    }
   ],
   "source": [
    "math.Sin(n)"
   ]
  },
  {
   "cell_type": "markdown",
   "metadata": {},
   "source": [
    "## https://gobyexample.com/for"
   ]
  },
  {
   "cell_type": "code",
   "execution_count": 115,
   "metadata": {},
   "outputs": [
    {
     "name": "stdout",
     "output_type": "stream",
     "text": [
      "1\n",
      "2\n",
      "3\n"
     ]
    }
   ],
   "source": [
    "// The most basic type, with a single condition.\n",
    "i := 1\n",
    "for i <= 3 {\n",
    "    fmt.Println(i)\n",
    "    i += 1\n",
    "}"
   ]
  },
  {
   "cell_type": "code",
   "execution_count": 116,
   "metadata": {},
   "outputs": [
    {
     "name": "stdout",
     "output_type": "stream",
     "text": [
      "7\n",
      "8\n",
      "9\n"
     ]
    }
   ],
   "source": [
    "// A classic initial/condition/after for loop.\n",
    "for j := 7; j <= 9; j++ {\n",
    "    fmt.Println(j)\n",
    "}"
   ]
  },
  {
   "cell_type": "code",
   "execution_count": 117,
   "metadata": {},
   "outputs": [
    {
     "data": {
      "text/plain": [
       "2"
      ]
     },
     "execution_count": 117,
     "metadata": {},
     "output_type": "execute_result"
    }
   ],
   "source": [
    "a := 3\n",
    "a--\n",
    "a"
   ]
  },
  {
   "cell_type": "code",
   "execution_count": 118,
   "metadata": {},
   "outputs": [
    {
     "data": {
      "text/plain": [
       "1"
      ]
     },
     "execution_count": 118,
     "metadata": {},
     "output_type": "execute_result"
    }
   ],
   "source": [
    "/*\n",
    "    for without a condition will \n",
    "    loop repeatedly until you break out\n",
    "    of the loop or return from the enclosing function.\n",
    "*/\n",
    "\n",
    "1"
   ]
  },
  {
   "cell_type": "code",
   "execution_count": 119,
   "metadata": {},
   "outputs": [
    {
     "name": "stdout",
     "output_type": "stream",
     "text": [
      "loop\n",
      "This could go on forever...\n"
     ]
    }
   ],
   "source": [
    "    for {\n",
    "        fmt.Println(\"loop\")\n",
    "        fmt.Println(\"This could go on forever...\")\n",
    "        break\n",
    "    }"
   ]
  },
  {
   "cell_type": "code",
   "execution_count": 120,
   "metadata": {},
   "outputs": [
    {
     "name": "stdout",
     "output_type": "stream",
     "text": [
      "1\n",
      "3\n",
      "5\n",
      "7\n",
      "9\n"
     ]
    }
   ],
   "source": [
    "// You can also continue to the next iteration of the loop.\n",
    "\n",
    "for n := 0; n <=9; n++ {\n",
    "    if n%2 == 0 {\n",
    "        continue\n",
    "    }\n",
    "    fmt.Println(n)\n",
    "}"
   ]
  },
  {
   "cell_type": "markdown",
   "metadata": {},
   "source": [
    "## https://gobyexample.com/if-else"
   ]
  },
  {
   "cell_type": "code",
   "execution_count": 121,
   "metadata": {},
   "outputs": [
    {
     "name": "stdout",
     "output_type": "stream",
     "text": [
      "7 is odd\n"
     ]
    }
   ],
   "source": [
    "//basic example\n",
    "if 7%2 == 0 {\n",
    "    fmt.Println(\"7 is even\")\n",
    "} else {\n",
    "    fmt.Println(\"7 is odd\")\n",
    "}"
   ]
  },
  {
   "cell_type": "code",
   "execution_count": 122,
   "metadata": {},
   "outputs": [
    {
     "name": "stdout",
     "output_type": "stream",
     "text": [
      "test\n"
     ]
    }
   ],
   "source": [
    "//You can have an if statement without an else.\n",
    "if 4%2 == 0 {\n",
    "    fmt.Println(\"test\")\n",
    "}"
   ]
  },
  {
   "cell_type": "code",
   "execution_count": 123,
   "metadata": {},
   "outputs": [
    {
     "name": "stdout",
     "output_type": "stream",
     "text": [
      "9 has 1 digit\n"
     ]
    }
   ],
   "source": [
    "/*\n",
    "A statement can precede conditionals;\n",
    "any variables declared in this statement \n",
    "are available in all branches.\n",
    "*/\n",
    "\n",
    "if num := 9; num < 0 {\n",
    "    fmt.Println(num, \"is negative\")\n",
    "} else if num < 10 {\n",
    "    fmt.Println(num, \"has 1 digit\")\n",
    "} else {\n",
    "    fmt.Println(num, \"has multiple digits\")\n",
    "}\n",
    "\n",
    "\n"
   ]
  },
  {
   "cell_type": "markdown",
   "metadata": {},
   "source": [
    "Note that you don’t need parentheses around conditions in Go, but that the braces are required.\n",
    "\n",
    "\n",
    "\n",
    "There is no [ternary if](https://en.wikipedia.org/wiki/%3F:) in Go, so you’ll need to use a full if statement even for basic conditions.\n"
   ]
  },
  {
   "cell_type": "markdown",
   "metadata": {},
   "source": [
    "## Go by Example: Switch\n",
    "\n",
    "Switch statements express conditionals across many branches."
   ]
  },
  {
   "cell_type": "code",
   "execution_count": 124,
   "metadata": {},
   "outputs": [
    {
     "name": "stdout",
     "output_type": "stream",
     "text": [
      "Write 2 as two\n"
     ]
    }
   ],
   "source": [
    "// Here’s a basic switch.\n",
    "\n",
    "i := 2\n",
    "fmt.Print(\"Write \", i,\" as \")\n",
    "switch i {\n",
    "case 1:\n",
    "    fmt.Println(\"one\")\n",
    "case 2:\n",
    "    fmt.Println(\"two\")\n",
    "case 3:\n",
    "    fmt.Println(\"three\")\n",
    "}"
   ]
  },
  {
   "cell_type": "code",
   "execution_count": 125,
   "metadata": {},
   "outputs": [],
   "source": [
    "import \"time\""
   ]
  },
  {
   "cell_type": "code",
   "execution_count": 126,
   "metadata": {},
   "outputs": [
    {
     "data": {
      "text/plain": [
       "Friday"
      ]
     },
     "execution_count": 126,
     "metadata": {},
     "output_type": "execute_result"
    }
   ],
   "source": [
    "today_obj := time.Now().Weekday()\n",
    "today_obj"
   ]
  },
  {
   "cell_type": "code",
   "execution_count": 127,
   "metadata": {},
   "outputs": [
    {
     "name": "stdout",
     "output_type": "stream",
     "text": [
      "It's a weekday: Friday"
     ]
    }
   ],
   "source": [
    "/* You can use commas to separate multiple expressions\n",
    "   in the same case statement. We use the optional default\n",
    "   case in this example as well.\n",
    "*/\n",
    "\n",
    "switch today_obj {\n",
    "case time.Saturday, time.Sunday:\n",
    "    fmt.Print(\"It's the weekend\", today_obj.String())\n",
    "default:\n",
    "    fmt.Print(\"It's a weekday: \", today_obj.String())\n",
    "}"
   ]
  },
  {
   "cell_type": "code",
   "execution_count": 128,
   "metadata": {},
   "outputs": [
    {
     "name": "stdout",
     "output_type": "stream",
     "text": [
      "after noon\n"
     ]
    }
   ],
   "source": [
    "/*  switch without an expression is an \n",
    "alternate way to express if/else logic. \n",
    "Here we also show how the case expressions \n",
    "can be non-constants.\n",
    "*/\n",
    "\n",
    "t := time.Now()\n",
    "switch {\n",
    "case t.Hour() < 12:\n",
    "    fmt.Println(\"before noon\")\n",
    "default:\n",
    "    fmt.Println(\"after noon\")\n",
    "}"
   ]
  },
  {
   "cell_type": "code",
   "execution_count": 129,
   "metadata": {},
   "outputs": [],
   "source": [
    "/* A type switch compares types instead of values. \n",
    "You can use this to discover the type of an interface value. \n",
    "In this example, the variable t will have the type \n",
    "corresponding to its clause.\n",
    "*/\n",
    "\n",
    "whatAmI := func(i interface{}) {\n",
    "    switch t := i.(type) {\n",
    "    case bool:\n",
    "        fmt.Println(\"boolean\")\n",
    "    case int:\n",
    "        fmt.Println(\"integer\")\n",
    "    default:\n",
    "        // printf allows for formatting strings like in python\n",
    "        fmt.Printf(\"Don't know this type %T\\n\", t)\n",
    "    }\n",
    "}"
   ]
  },
  {
   "cell_type": "code",
   "execution_count": 130,
   "metadata": {},
   "outputs": [
    {
     "name": "stdout",
     "output_type": "stream",
     "text": [
      "integer\n",
      "boolean\n",
      "Don't know this type float64\n",
      "Don't know this type string\n"
     ]
    }
   ],
   "source": [
    "whatAmI(1)\n",
    "whatAmI(false)\n",
    "whatAmI(3.14)\n",
    "whatAmI(\"SOME TEXT\")"
   ]
  },
  {
   "cell_type": "markdown",
   "metadata": {},
   "source": [
    "## Arrays"
   ]
  },
  {
   "cell_type": "code",
   "execution_count": 131,
   "metadata": {},
   "outputs": [
    {
     "data": {
      "text/plain": [
       "[0 0 0 0 0]"
      ]
     },
     "execution_count": 131,
     "metadata": {},
     "output_type": "execute_result"
    }
   ],
   "source": [
    "// Here we create an array a that will hold exactly 5 ints. \n",
    "// The type of elements and length are both part of the\n",
    "// array’s type. By default an array is zero-valued, \n",
    "// which for ints means 0s.\n",
    "\n",
    "var a [5]int\n",
    "a"
   ]
  },
  {
   "cell_type": "code",
   "execution_count": 132,
   "metadata": {},
   "outputs": [
    {
     "data": {
      "text/plain": [
       "[0 0 0 0 100]"
      ]
     },
     "execution_count": 132,
     "metadata": {},
     "output_type": "execute_result"
    }
   ],
   "source": [
    "a[4] = 100\n",
    "a"
   ]
  },
  {
   "cell_type": "code",
   "execution_count": 133,
   "metadata": {},
   "outputs": [
    {
     "data": {
      "text/plain": [
       "100"
      ]
     },
     "execution_count": 133,
     "metadata": {},
     "output_type": "execute_result"
    }
   ],
   "source": [
    "a[4]"
   ]
  },
  {
   "cell_type": "code",
   "execution_count": 134,
   "metadata": {},
   "outputs": [
    {
     "data": {
      "text/plain": [
       "5"
      ]
     },
     "execution_count": 134,
     "metadata": {},
     "output_type": "execute_result"
    }
   ],
   "source": [
    "len(a)"
   ]
  },
  {
   "cell_type": "code",
   "execution_count": 135,
   "metadata": {},
   "outputs": [
    {
     "data": {
      "text/plain": [
       "[1 2 3.14 4 5]"
      ]
     },
     "execution_count": 135,
     "metadata": {},
     "output_type": "execute_result"
    }
   ],
   "source": [
    "// Use this syntax to declare and initialize\n",
    "// an array in one line.\n",
    "b := [5]float64{1.0, 2.0, 3.14, 4.0, 5.0}\n",
    "b"
   ]
  },
  {
   "cell_type": "code",
   "execution_count": 136,
   "metadata": {},
   "outputs": [
    {
     "data": {
      "text/plain": [
       "[2 3.14 4]"
      ]
     },
     "execution_count": 136,
     "metadata": {},
     "output_type": "execute_result"
    }
   ],
   "source": [
    "b[1:4]"
   ]
  },
  {
   "cell_type": "code",
   "execution_count": 137,
   "metadata": {},
   "outputs": [
    {
     "ename": "ERROR",
     "evalue": "untyped constant {float64 157/50} overflows <int>",
     "output_type": "error",
     "traceback": [
      "untyped constant {float64 157/50} overflows <int>"
     ]
    }
   ],
   "source": [
    "[5]int{1.0, 2.0, 3.14, 4.0, 5.0}"
   ]
  },
  {
   "cell_type": "code",
   "execution_count": 138,
   "metadata": {},
   "outputs": [
    {
     "data": {
      "text/plain": [
       "[[0 1 2] [1 2 3]]"
      ]
     },
     "execution_count": 138,
     "metadata": {},
     "output_type": "execute_result"
    }
   ],
   "source": [
    "// Array types are one-dimensional, but you can \n",
    "// compose types to build multi-dimensional \n",
    "// data structures.\n",
    "\n",
    "var twoD [2][3]int\n",
    "for i := 0; i < 2; i++ {\n",
    "    for j := 0; j < 3; j++ {\n",
    "        twoD[i][j] = i + j\n",
    "    }\n",
    "}\n",
    "\n",
    "// Note that arrays appear in the form [v1 v2 v3 ...]\n",
    "// when printed with fmt.Println\n",
    "\n",
    "twoD"
   ]
  },
  {
   "cell_type": "markdown",
   "metadata": {},
   "source": [
    "## Slices"
   ]
  },
  {
   "cell_type": "markdown",
   "metadata": {},
   "source": [
    "\n",
    "\n",
    "Unlike arrays, slices are typed only by the elements they contain (not the number of elements). To create an empty slice with non-zero length, use the builtin make. Here we make a slice of strings of length 3 (initially zero-valued).\n"
   ]
  },
  {
   "cell_type": "code",
   "execution_count": 139,
   "metadata": {},
   "outputs": [
    {
     "data": {
      "text/plain": [
       "[  ]"
      ]
     },
     "execution_count": 139,
     "metadata": {},
     "output_type": "execute_result"
    }
   ],
   "source": [
    "s := make([]string, 3)\n",
    "s"
   ]
  },
  {
   "cell_type": "code",
   "execution_count": 140,
   "metadata": {},
   "outputs": [
    {
     "data": {
      "text/plain": [
       "[a b c]"
      ]
     },
     "execution_count": 140,
     "metadata": {},
     "output_type": "execute_result"
    }
   ],
   "source": [
    "s[0]=\"a\"\n",
    "s[1]=\"b\"\n",
    "s[2]=\"c\"\n",
    "s"
   ]
  },
  {
   "cell_type": "code",
   "execution_count": 141,
   "metadata": {},
   "outputs": [
    {
     "data": {
      "text/plain": [
       "c"
      ]
     },
     "execution_count": 141,
     "metadata": {},
     "output_type": "execute_result"
    }
   ],
   "source": [
    "s[2]"
   ]
  },
  {
   "cell_type": "markdown",
   "metadata": {},
   "source": [
    "In addition to these basic operations, slices support several more that make them richer than arrays. One is the builtin append, which returns a slice containing one or more new values. Note that we need to accept a return value from append as we may get a new slice value.\n",
    "\n",
    "(!) `append` returns new slice, not in-place"
   ]
  },
  {
   "cell_type": "code",
   "execution_count": 142,
   "metadata": {},
   "outputs": [
    {
     "data": {
      "text/plain": [
       "[a b c d e f]"
      ]
     },
     "execution_count": 142,
     "metadata": {},
     "output_type": "execute_result"
    }
   ],
   "source": [
    "append(s, \"d\", \"e\", \"f\")"
   ]
  },
  {
   "cell_type": "code",
   "execution_count": 143,
   "metadata": {},
   "outputs": [
    {
     "data": {
      "text/plain": [
       "[a b c]"
      ]
     },
     "execution_count": 143,
     "metadata": {},
     "output_type": "execute_result"
    }
   ],
   "source": [
    "s"
   ]
  },
  {
   "cell_type": "code",
   "execution_count": 144,
   "metadata": {},
   "outputs": [
    {
     "data": {
      "text/plain": [
       "[a b c d e f]"
      ]
     },
     "execution_count": 144,
     "metadata": {},
     "output_type": "execute_result"
    }
   ],
   "source": [
    "s = append(s, \"d\", \"e\", \"f\")\n",
    "s"
   ]
  },
  {
   "cell_type": "markdown",
   "metadata": {},
   "source": [
    "Slices can also be copy’d. Here we create an empty slice c of the same length as s and copy into c from s.\n",
    "\n",
    "\n",
    "(!) `copy` works in-place!\n"
   ]
  },
  {
   "cell_type": "code",
   "execution_count": 145,
   "metadata": {},
   "outputs": [
    {
     "data": {
      "text/plain": [
       "[     ]"
      ]
     },
     "execution_count": 145,
     "metadata": {},
     "output_type": "execute_result"
    }
   ],
   "source": [
    "c := make([]string, len(s))\n",
    "c"
   ]
  },
  {
   "cell_type": "code",
   "execution_count": 146,
   "metadata": {},
   "outputs": [
    {
     "data": {
      "text/plain": [
       "[a b c d e f]"
      ]
     },
     "execution_count": 146,
     "metadata": {},
     "output_type": "execute_result"
    }
   ],
   "source": [
    "copy(c, s)\n",
    "c"
   ]
  },
  {
   "cell_type": "markdown",
   "metadata": {},
   "source": [
    "Slices support a “slice” operator with the syntax slice[low:high]. For example, this gets a slice of the elements s[2], s[3], and s[4].\n"
   ]
  },
  {
   "cell_type": "code",
   "execution_count": 147,
   "metadata": {},
   "outputs": [
    {
     "data": {
      "text/plain": [
       "[c d e]"
      ]
     },
     "execution_count": 147,
     "metadata": {},
     "output_type": "execute_result"
    }
   ],
   "source": [
    "l := s[2:5]\n",
    "l"
   ]
  },
  {
   "cell_type": "markdown",
   "metadata": {},
   "source": [
    "`slices do not copy values, they create pointers!`"
   ]
  },
  {
   "cell_type": "code",
   "execution_count": 148,
   "metadata": {},
   "outputs": [
    {
     "data": {
      "text/plain": [
       "[f d e]"
      ]
     },
     "execution_count": 148,
     "metadata": {},
     "output_type": "execute_result"
    }
   ],
   "source": [
    "s[2] = \"f\"\n",
    "l"
   ]
  },
  {
   "cell_type": "markdown",
   "metadata": {},
   "source": [
    "We can declare and initialize a variable for slice in a single line as well."
   ]
  },
  {
   "cell_type": "code",
   "execution_count": 149,
   "metadata": {},
   "outputs": [
    {
     "data": {
      "text/plain": [
       "[g h i]"
      ]
     },
     "execution_count": 149,
     "metadata": {},
     "output_type": "execute_result"
    }
   ],
   "source": [
    "t := []string{\"g\", \"h\", \"i\"}\n",
    "t"
   ]
  },
  {
   "cell_type": "markdown",
   "metadata": {},
   "source": [
    "Slices can be composed into multi-dimensional data structures. The length of the inner slices can vary, unlike with multi-dimensional arrays."
   ]
  },
  {
   "cell_type": "code",
   "execution_count": 150,
   "metadata": {},
   "outputs": [
    {
     "data": {
      "text/plain": [
       "[[0] [1 2] [2 3 4]]"
      ]
     },
     "execution_count": 150,
     "metadata": {},
     "output_type": "execute_result"
    }
   ],
   "source": [
    "twoD := make([][]int, 3)\n",
    "\n",
    "for i := 0; i < 3; i++ {\n",
    "    innerLen := i+1\n",
    "    twoD[i] = make([]int, innerLen)\n",
    "    for j:=0; j < innerLen; j++ {\n",
    "        twoD[i][j] = i + j\n",
    "    }\n",
    "}\n",
    "\n",
    "twoD"
   ]
  },
  {
   "cell_type": "code",
   "execution_count": 151,
   "metadata": {},
   "outputs": [
    {
     "data": {
      "text/plain": [
       "[[0] [1 2] [3 4 5] [6 7 8 9] [] []]"
      ]
     },
     "execution_count": 151,
     "metadata": {},
     "output_type": "execute_result"
    }
   ],
   "source": [
    "twoD := make([][]int, 6)\n",
    "var counter int = 0\n",
    "\n",
    "for i := 0; i < 4; i++ {\n",
    "    innerLen := i+1\n",
    "    twoD[i] = make([]int, innerLen)\n",
    "    for j:=0; j < innerLen; j++ {\n",
    "        twoD[i][j] = counter\n",
    "        counter++\n",
    "    }\n",
    "}\n",
    "\n",
    "twoD"
   ]
  },
  {
   "cell_type": "code",
   "execution_count": 152,
   "metadata": {},
   "outputs": [
    {
     "data": {
      "text/plain": [
       "0"
      ]
     },
     "execution_count": 152,
     "metadata": {},
     "output_type": "execute_result"
    }
   ],
   "source": [
    "// length of the last element in the slice above\n",
    "len(twoD[len(twoD)-1])"
   ]
  },
  {
   "cell_type": "markdown",
   "metadata": {},
   "source": [
    "## Maps\n",
    "\n",
    "To create an empty map, use the builtin make: `make(map[key-type]val-type)`"
   ]
  },
  {
   "cell_type": "code",
   "execution_count": 153,
   "metadata": {},
   "outputs": [
    {
     "data": {
      "text/plain": [
       "map[k2:13 k1:7]"
      ]
     },
     "execution_count": 153,
     "metadata": {},
     "output_type": "execute_result"
    }
   ],
   "source": [
    "m := make(map[string]int)\n",
    "m[\"k1\"] = 7\n",
    "m[\"k2\"] = 13\n",
    "m"
   ]
  },
  {
   "cell_type": "code",
   "execution_count": 154,
   "metadata": {},
   "outputs": [
    {
     "name": "stderr",
     "output_type": "stream",
     "text": [
      "7\n",
      "7\n",
      "map[k1:42 k2:13]"
     ]
    }
   ],
   "source": [
    "v1 := m[\"k1\"]   // map returns COPIES of values, \n",
    "                // NOT pointers like in slice\n",
    "print(v1, \"\\n\")\n",
    "\n",
    "m[\"k1\"] = 42\n",
    "print(v1, \"\\n\")\n",
    "\n",
    "print(m)"
   ]
  },
  {
   "cell_type": "markdown",
   "metadata": {},
   "source": [
    "The builtin `delete` removes key/value pairs from a map."
   ]
  },
  {
   "cell_type": "code",
   "execution_count": 155,
   "metadata": {},
   "outputs": [
    {
     "data": {
      "text/plain": [
       "map[k1:42]"
      ]
     },
     "execution_count": 155,
     "metadata": {},
     "output_type": "execute_result"
    }
   ],
   "source": [
    "delete(m, \"k2\")\n",
    "m"
   ]
  },
  {
   "cell_type": "markdown",
   "metadata": {},
   "source": [
    "The optional second return value when getting a value from a map indicates if the key was present in the map. This can be used to disambiguate between missing keys and keys with zero values like 0 or \"\". Here we didn’t need the value itself, so we ignored it with the `blank identifier _`."
   ]
  },
  {
   "cell_type": "code",
   "execution_count": 156,
   "metadata": {},
   "outputs": [
    {
     "name": "stdout",
     "output_type": "stream",
     "text": [
      "0 false"
     ]
    }
   ],
   "source": [
    "val, prs := m[\"non_existing_key\"]\n",
    "fmt.Print(val, prs)\n",
    "\n",
    "nil"
   ]
  },
  {
   "cell_type": "code",
   "execution_count": 157,
   "metadata": {},
   "outputs": [
    {
     "name": "stdout",
     "output_type": "stream",
     "text": [
      "42 true"
     ]
    }
   ],
   "source": [
    "val, prs := m[\"k1\"]\n",
    "fmt.Print(val, prs)\n",
    "\n",
    "nil"
   ]
  },
  {
   "cell_type": "markdown",
   "metadata": {},
   "source": [
    "You can also declare and initialize a new map in the same line with this syntax.\n",
    "\n",
    "Note that values are typed, but GoLang tries to convert them when it can"
   ]
  },
  {
   "cell_type": "code",
   "execution_count": 171,
   "metadata": {},
   "outputs": [
    {
     "data": {
      "text/plain": [
       "map[bar:2 foo:1]"
      ]
     },
     "execution_count": 171,
     "metadata": {},
     "output_type": "execute_result"
    }
   ],
   "source": [
    "n := map[string]int{\"foo\":1, \"bar\":2.0}\n",
    "n"
   ]
  },
  {
   "cell_type": "code",
   "execution_count": 172,
   "metadata": {},
   "outputs": [
    {
     "ename": "ERROR",
     "evalue": "untyped constant {float64 21/10} overflows <int>",
     "output_type": "error",
     "traceback": [
      "untyped constant {float64 21/10} overflows <int>"
     ]
    }
   ],
   "source": [
    "n := map[string]int{\"foo\":1, \"bar\":2.1}\n",
    "n"
   ]
  },
  {
   "cell_type": "code",
   "execution_count": 174,
   "metadata": {},
   "outputs": [
    {
     "ename": "ERROR",
     "evalue": "cannot convert untyped constant {string \"forbidden_string\"} to <int>",
     "output_type": "error",
     "traceback": [
      "cannot convert untyped constant {string \"forbidden_string\"} to <int>"
     ]
    }
   ],
   "source": [
    "// map values are typed!\n",
    "n := map[string]int{\"foo\":1, \"bar\":\"forbidden_string\"}\n",
    "n"
   ]
  },
  {
   "cell_type": "markdown",
   "metadata": {},
   "source": [
    "## Range"
   ]
  },
  {
   "cell_type": "markdown",
   "metadata": {},
   "source": [
    "range iterates over elements in a variety of data structures. Let’s see how to use range with some of the data structures we’ve already learned."
   ]
  },
  {
   "cell_type": "code",
   "execution_count": 191,
   "metadata": {},
   "outputs": [
    {
     "name": "stdout",
     "output_type": "stream",
     "text": [
      "nums: [1 2 9 16 25 36 49 64]\n",
      "sum: 202\n"
     ]
    }
   ],
   "source": [
    "nums := []int{1, 2, 9, 16, 25, 36, 49, 64}\n",
    "fmt.Println(\"nums:\",nums)\n",
    "sum := 0\n",
    "for _, num := range nums {\n",
    "    sum += num\n",
    "}\n",
    "fmt.Println(\"sum:\",sum)\n",
    "nil"
   ]
  },
  {
   "cell_type": "markdown",
   "metadata": {},
   "source": [
    "range on arrays and slices provides both the index and value for each entry. Above we didn’t need the index, so we ignored it with the blank identifier _. Sometimes we actually want the indexes though."
   ]
  },
  {
   "cell_type": "code",
   "execution_count": 193,
   "metadata": {},
   "outputs": [
    {
     "name": "stdout",
     "output_type": "stream",
     "text": [
      "index: 1 , num: 2\n",
      "index: 3 , num: 16\n",
      "index: 5 , num: 36\n",
      "index: 7 , num: 64\n"
     ]
    }
   ],
   "source": [
    "for i, num := range nums {\n",
    "    if num % 2 == 0 {\n",
    "        fmt.Println(\"index:\",i, \", num:\", num)\n",
    "    }\n",
    "}"
   ]
  },
  {
   "cell_type": "markdown",
   "metadata": {},
   "source": [
    "range on map iterates over key/value pairs."
   ]
  },
  {
   "cell_type": "code",
   "execution_count": 203,
   "metadata": {},
   "outputs": [
    {
     "name": "stdout",
     "output_type": "stream",
     "text": [
      "kvs: map[a:apple b:banana]\n",
      "a -> apple \n",
      "b -> banana \n"
     ]
    }
   ],
   "source": [
    "kvs := map[string]string{\"a\":\"apple\", \"b\":\"banana\"}\n",
    "fmt.Println(\"kvs:\",kvs)\n",
    "for k, v := range kvs {\n",
    "    fmt.Printf(\"%s -> %s \\n\", k, v)\n",
    "//     fmt.Println(k, v)\n",
    "}\n",
    "nil"
   ]
  },
  {
   "cell_type": "markdown",
   "metadata": {},
   "source": [
    "range can also iterate over just the keys of a map."
   ]
  },
  {
   "cell_type": "code",
   "execution_count": 206,
   "metadata": {},
   "outputs": [
    {
     "name": "stdout",
     "output_type": "stream",
     "text": [
      "key: a\n",
      "key: b\n"
     ]
    }
   ],
   "source": [
    "for k := range kvs {\n",
    "    fmt.Println(\"key:\",k)\n",
    "}"
   ]
  },
  {
   "cell_type": "markdown",
   "metadata": {},
   "source": [
    "range on strings iterates over Unicode code points. The first value is the starting byte index of the rune and the second the rune itself."
   ]
  },
  {
   "cell_type": "code",
   "execution_count": 207,
   "metadata": {},
   "outputs": [
    {
     "name": "stdout",
     "output_type": "stream",
     "text": [
      "0 71\n",
      "1 111\n",
      "2 76\n",
      "3 97\n",
      "4 110\n",
      "5 103\n"
     ]
    }
   ],
   "source": [
    "for i, c := range \"GoLang\" {\n",
    "    fmt.Println(i, c)\n",
    "}"
   ]
  },
  {
   "cell_type": "markdown",
   "metadata": {},
   "source": [
    "## Functions"
   ]
  },
  {
   "cell_type": "code",
   "execution_count": 208,
   "metadata": {},
   "outputs": [],
   "source": [
    "func plus(a int, b int) int {\n",
    "    \n",
    "    return a+b\n",
    "}"
   ]
  },
  {
   "cell_type": "markdown",
   "metadata": {},
   "source": [
    "When you have multiple consecutive parameters of the same type, you may omit the type name for the like-typed parameters up to the final parameter that declares the type."
   ]
  },
  {
   "cell_type": "code",
   "execution_count": 217,
   "metadata": {},
   "outputs": [],
   "source": [
    "func plusFloat(a, b, c int) float64 {\n",
    "    z := a + b + c // int\n",
    "    return float64(z)\n",
    "    \n",
    "}"
   ]
  },
  {
   "cell_type": "code",
   "execution_count": 218,
   "metadata": {},
   "outputs": [
    {
     "name": "stdout",
     "output_type": "stream",
     "text": [
      "1 + 2 = 3\n",
      "1 + 3 + 5 = 9\n"
     ]
    }
   ],
   "source": [
    "fmt.Println(\"1 + 2 =\",plus(1, 2))\n",
    "fmt.Println(\"1 + 3 + 5 =\", plusFloat(1,3,5))\n",
    "\n",
    "nil"
   ]
  },
  {
   "cell_type": "markdown",
   "metadata": {},
   "source": [
    "## https://gobyexample.com/multiple-return-values\n",
    "\n",
    "Go has built-in support for multiple return values. This feature is used often in idiomatic Go, for example to return both result and error values from a function."
   ]
  },
  {
   "cell_type": "code",
   "execution_count": null,
   "metadata": {},
   "outputs": [],
   "source": []
  },
  {
   "cell_type": "code",
   "execution_count": null,
   "metadata": {},
   "outputs": [],
   "source": []
  },
  {
   "cell_type": "code",
   "execution_count": null,
   "metadata": {},
   "outputs": [],
   "source": []
  },
  {
   "cell_type": "code",
   "execution_count": null,
   "metadata": {},
   "outputs": [],
   "source": []
  },
  {
   "cell_type": "code",
   "execution_count": null,
   "metadata": {},
   "outputs": [],
   "source": []
  },
  {
   "cell_type": "code",
   "execution_count": null,
   "metadata": {},
   "outputs": [],
   "source": []
  },
  {
   "cell_type": "code",
   "execution_count": null,
   "metadata": {},
   "outputs": [],
   "source": []
  },
  {
   "cell_type": "code",
   "execution_count": null,
   "metadata": {},
   "outputs": [],
   "source": []
  },
  {
   "cell_type": "code",
   "execution_count": null,
   "metadata": {},
   "outputs": [],
   "source": []
  },
  {
   "cell_type": "code",
   "execution_count": null,
   "metadata": {},
   "outputs": [],
   "source": []
  },
  {
   "cell_type": "code",
   "execution_count": null,
   "metadata": {},
   "outputs": [],
   "source": []
  },
  {
   "cell_type": "code",
   "execution_count": null,
   "metadata": {},
   "outputs": [],
   "source": []
  },
  {
   "cell_type": "code",
   "execution_count": null,
   "metadata": {},
   "outputs": [],
   "source": []
  }
 ],
 "metadata": {
  "kernelspec": {
   "display_name": "Go",
   "language": "go",
   "name": "gophernotes"
  },
  "language_info": {
   "codemirror_mode": "",
   "file_extension": ".go",
   "mimetype": "",
   "name": "go",
   "nbconvert_exporter": "",
   "pygments_lexer": "",
   "version": "go1.11.4"
  }
 },
 "nbformat": 4,
 "nbformat_minor": 2
}
